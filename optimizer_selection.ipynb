{
  "nbformat": 4,
  "nbformat_minor": 0,
  "metadata": {
    "colab": {
      "provenance": []
    },
    "kernelspec": {
      "name": "python3",
      "display_name": "Python 3"
    },
    "language_info": {
      "name": "python"
    }
  },
  "cells": [
    {
      "cell_type": "code",
      "execution_count": null,
      "metadata": {
        "id": "I3S0G9P71lvP"
      },
      "outputs": [],
      "source": [
        "import tensorflow as tf\n",
        "import keras\n",
        "from keras.datasets import mnist\n",
        "from keras.utils import to_categorical\n",
        "from sklearn.preprocessing import MinMaxScaler, StandardScaler\n",
        "import numpy as np\n",
        "from tensorflow.keras.optimizers import SGD, RMSprop, Adam\n",
        "import numpy as np"
      ]
    },
    {
      "cell_type": "code",
      "source": [
        "(x_train, y_train), (x_test, y_test) = mnist.load_data()"
      ],
      "metadata": {
        "id": "t2EdoYoC2DJx",
        "colab": {
          "base_uri": "https://localhost:8080/"
        },
        "outputId": "9b3e1b15-80fe-4ab7-95fe-512f384cb9d9"
      },
      "execution_count": null,
      "outputs": [
        {
          "output_type": "stream",
          "name": "stdout",
          "text": [
            "Downloading data from https://storage.googleapis.com/tensorflow/tf-keras-datasets/mnist.npz\n",
            "11490434/11490434 [==============================] - 1s 0us/step\n"
          ]
        }
      ]
    },
    {
      "cell_type": "code",
      "source": [
        "# Rescale the pixel values to a range of 0 to 1\n",
        "x_train = x_train.astype('float32') / 255\n",
        "x_test = x_test.astype('float32') / 255"
      ],
      "metadata": {
        "id": "wJL9Lqoc4tVB"
      },
      "execution_count": null,
      "outputs": []
    },
    {
      "cell_type": "code",
      "source": [
        "# Flatten the images into a 1D vector\n",
        "x_train = x_train.reshape((len(x_train), 28 * 28))\n",
        "x_test = x_test.reshape((len(x_test), 28 * 28))"
      ],
      "metadata": {
        "id": "V2zvyo0p4wj6",
        "outputId": "0c830984-00b4-4ce0-f9d5-ce9227488b19",
        "colab": {
          "base_uri": "https://localhost:8080/",
          "height": 198
        }
      },
      "execution_count": null,
      "outputs": [
        {
          "output_type": "error",
          "ename": "NameError",
          "evalue": "ignored",
          "traceback": [
            "\u001b[0;31m---------------------------------------------------------------------------\u001b[0m",
            "\u001b[0;31mNameError\u001b[0m                                 Traceback (most recent call last)",
            "\u001b[0;32m<ipython-input-1-7dc0662b8da4>\u001b[0m in \u001b[0;36m<cell line: 2>\u001b[0;34m()\u001b[0m\n\u001b[1;32m      1\u001b[0m \u001b[0;31m# Flatten the images into a 1D vector\u001b[0m\u001b[0;34m\u001b[0m\u001b[0;34m\u001b[0m\u001b[0m\n\u001b[0;32m----> 2\u001b[0;31m \u001b[0mx_train\u001b[0m \u001b[0;34m=\u001b[0m \u001b[0mx_train\u001b[0m\u001b[0;34m.\u001b[0m\u001b[0mreshape\u001b[0m\u001b[0;34m(\u001b[0m\u001b[0;34m(\u001b[0m\u001b[0mlen\u001b[0m\u001b[0;34m(\u001b[0m\u001b[0mx_train\u001b[0m\u001b[0;34m)\u001b[0m\u001b[0;34m,\u001b[0m \u001b[0;36m28\u001b[0m \u001b[0;34m*\u001b[0m \u001b[0;36m28\u001b[0m\u001b[0;34m)\u001b[0m\u001b[0;34m)\u001b[0m\u001b[0;34m\u001b[0m\u001b[0;34m\u001b[0m\u001b[0m\n\u001b[0m\u001b[1;32m      3\u001b[0m \u001b[0mx_test\u001b[0m \u001b[0;34m=\u001b[0m \u001b[0mx_test\u001b[0m\u001b[0;34m.\u001b[0m\u001b[0mreshape\u001b[0m\u001b[0;34m(\u001b[0m\u001b[0;34m(\u001b[0m\u001b[0mlen\u001b[0m\u001b[0;34m(\u001b[0m\u001b[0mx_test\u001b[0m\u001b[0;34m)\u001b[0m\u001b[0;34m,\u001b[0m \u001b[0;36m28\u001b[0m \u001b[0;34m*\u001b[0m \u001b[0;36m28\u001b[0m\u001b[0;34m)\u001b[0m\u001b[0;34m)\u001b[0m\u001b[0;34m\u001b[0m\u001b[0;34m\u001b[0m\u001b[0m\n",
            "\u001b[0;31mNameError\u001b[0m: name 'x_train' is not defined"
          ]
        }
      ]
    },
    {
      "cell_type": "code",
      "source": [
        "scaler = StandardScaler()\n",
        "x_train = scaler.fit_transform(x_train)\n",
        "x_test = scaler.transform(x_test)"
      ],
      "metadata": {
        "id": "hZU_lGro5AgY"
      },
      "execution_count": null,
      "outputs": []
    },
    {
      "cell_type": "code",
      "source": [
        "x_train.shape"
      ],
      "metadata": {
        "colab": {
          "base_uri": "https://localhost:8080/"
        },
        "id": "XnvJxpMd5I6N",
        "outputId": "bef6ad54-b13d-4900-ad68-0aa446db47b4"
      },
      "execution_count": null,
      "outputs": [
        {
          "output_type": "execute_result",
          "data": {
            "text/plain": [
              "(60000, 784)"
            ]
          },
          "metadata": {},
          "execution_count": 6
        }
      ]
    },
    {
      "cell_type": "code",
      "source": [
        "y_train.shape"
      ],
      "metadata": {
        "colab": {
          "base_uri": "https://localhost:8080/"
        },
        "id": "n8Ed9hX15Mav",
        "outputId": "a814e3f4-bf90-443c-ae17-6014783c3e81"
      },
      "execution_count": null,
      "outputs": [
        {
          "output_type": "execute_result",
          "data": {
            "text/plain": [
              "(60000,)"
            ]
          },
          "metadata": {},
          "execution_count": 7
        }
      ]
    },
    {
      "cell_type": "code",
      "source": [
        "X_train = x_train.reshape((60000, 28, 28))\n",
        "X_test = x_test.reshape((10000, 28, 28))"
      ],
      "metadata": {
        "id": "X7d2eSAL9W6F"
      },
      "execution_count": null,
      "outputs": []
    },
    {
      "cell_type": "code",
      "source": [
        "model = keras.models.Sequential([\n",
        "    keras.layers.SimpleRNN(64, input_shape=(28, 28), return_sequences=True),\n",
        "    keras.layers.SimpleRNN(64),\n",
        "    keras.layers.Dense(10, activation=\"softmax\")\n",
        "])"
      ],
      "metadata": {
        "id": "KHWCBzqf5w9Y"
      },
      "execution_count": null,
      "outputs": []
    },
    {
      "cell_type": "code",
      "source": [
        "optimizers = [SGD(), RMSprop(), Adam()]\n",
        "loss = []\n",
        "accu = []\n",
        "name_optimizers = [\"sgd\", \"rmsprop\", \"adam\"]"
      ],
      "metadata": {
        "id": "fh66P7tL6M8W"
      },
      "execution_count": null,
      "outputs": []
    },
    {
      "cell_type": "code",
      "source": [
        "for optimizer in optimizers:\n",
        "    model.compile(loss=\"sparse_categorical_crossentropy\", optimizer=optimizer, metrics=[\"accuracy\"])\n",
        "\n",
        "    # Train the model\n",
        "    history = model.fit(X_train, y_train, epochs=10, validation_data=(X_test, y_test))\n",
        "\n",
        "    # Evaluate the model\n",
        "    test_loss, test_acc = model.evaluate(X_test, y_test)\n",
        "    loss.append(test_loss)\n",
        "    accu.append(test_acc)\n",
        "    print(f\"Optimizer: {optimizer} - Test Accuracy: {test_acc}\")"
      ],
      "metadata": {
        "colab": {
          "base_uri": "https://localhost:8080/"
        },
        "id": "6e9qyzD66jM5",
        "outputId": "2d8b1dca-52fe-4187-ade2-e5dd19adbfc4"
      },
      "execution_count": null,
      "outputs": [
        {
          "output_type": "stream",
          "name": "stdout",
          "text": [
            "Epoch 1/10\n",
            "1875/1875 [==============================] - 32s 16ms/step - loss: 0.8426 - accuracy: 0.7273 - val_loss: 0.4589 - val_accuracy: 0.8594\n",
            "Epoch 2/10\n",
            "1875/1875 [==============================] - 28s 15ms/step - loss: 0.3759 - accuracy: 0.8856 - val_loss: 0.2912 - val_accuracy: 0.9151\n",
            "Epoch 3/10\n",
            "1875/1875 [==============================] - 29s 16ms/step - loss: 0.2693 - accuracy: 0.9192 - val_loss: 0.2306 - val_accuracy: 0.9329\n",
            "Epoch 4/10\n",
            "1875/1875 [==============================] - 28s 15ms/step - loss: 0.2127 - accuracy: 0.9384 - val_loss: 0.1877 - val_accuracy: 0.9467\n",
            "Epoch 5/10\n",
            "1875/1875 [==============================] - 29s 15ms/step - loss: 0.1817 - accuracy: 0.9467 - val_loss: 0.1760 - val_accuracy: 0.9484\n",
            "Epoch 6/10\n",
            "1875/1875 [==============================] - 27s 14ms/step - loss: 0.1574 - accuracy: 0.9537 - val_loss: 0.1501 - val_accuracy: 0.9571\n",
            "Epoch 7/10\n",
            "1875/1875 [==============================] - 27s 14ms/step - loss: 0.1422 - accuracy: 0.9582 - val_loss: 0.1424 - val_accuracy: 0.9578\n",
            "Epoch 8/10\n",
            "1875/1875 [==============================] - 27s 14ms/step - loss: 0.1287 - accuracy: 0.9623 - val_loss: 0.1281 - val_accuracy: 0.9631\n",
            "Epoch 9/10\n",
            "1875/1875 [==============================] - 27s 15ms/step - loss: 0.1139 - accuracy: 0.9668 - val_loss: 0.1323 - val_accuracy: 0.9611\n",
            "Epoch 10/10\n",
            "1875/1875 [==============================] - 28s 15ms/step - loss: 0.1094 - accuracy: 0.9680 - val_loss: 0.1286 - val_accuracy: 0.9638\n",
            "313/313 [==============================] - 2s 6ms/step - loss: 0.1286 - accuracy: 0.9638\n",
            "Optimizer: <keras.optimizers.sgd.SGD object at 0x7f507817daf0> - Test Accuracy: 0.9638000130653381\n",
            "Epoch 1/10\n",
            "1875/1875 [==============================] - 30s 15ms/step - loss: 0.1605 - accuracy: 0.9529 - val_loss: 0.1589 - val_accuracy: 0.9533\n",
            "Epoch 2/10\n",
            "1875/1875 [==============================] - 28s 15ms/step - loss: 0.1505 - accuracy: 0.9563 - val_loss: 0.1697 - val_accuracy: 0.9506\n",
            "Epoch 3/10\n",
            "1875/1875 [==============================] - 29s 15ms/step - loss: 0.1421 - accuracy: 0.9590 - val_loss: 0.1559 - val_accuracy: 0.9561\n",
            "Epoch 4/10\n",
            "1875/1875 [==============================] - 30s 16ms/step - loss: 0.1369 - accuracy: 0.9605 - val_loss: 0.1328 - val_accuracy: 0.9609\n",
            "Epoch 5/10\n",
            "1875/1875 [==============================] - 29s 16ms/step - loss: 0.1324 - accuracy: 0.9622 - val_loss: 0.1278 - val_accuracy: 0.9629\n",
            "Epoch 6/10\n",
            "1875/1875 [==============================] - 29s 16ms/step - loss: 0.1261 - accuracy: 0.9640 - val_loss: 0.1359 - val_accuracy: 0.9628\n",
            "Epoch 7/10\n",
            "1875/1875 [==============================] - 28s 15ms/step - loss: 0.1222 - accuracy: 0.9650 - val_loss: 0.1441 - val_accuracy: 0.9611\n",
            "Epoch 8/10\n",
            "1875/1875 [==============================] - 29s 15ms/step - loss: 0.1173 - accuracy: 0.9675 - val_loss: 0.1477 - val_accuracy: 0.9583\n",
            "Epoch 9/10\n",
            "1875/1875 [==============================] - 28s 15ms/step - loss: 0.1186 - accuracy: 0.9661 - val_loss: 0.1203 - val_accuracy: 0.9672\n",
            "Epoch 10/10\n",
            "1875/1875 [==============================] - 28s 15ms/step - loss: 0.1170 - accuracy: 0.9672 - val_loss: 0.1188 - val_accuracy: 0.9668\n",
            "313/313 [==============================] - 2s 7ms/step - loss: 0.1188 - accuracy: 0.9668\n",
            "Optimizer: <keras.optimizers.rmsprop.RMSprop object at 0x7f507c1d47c0> - Test Accuracy: 0.9667999744415283\n",
            "Epoch 1/10\n",
            "1875/1875 [==============================] - 31s 15ms/step - loss: 0.1432 - accuracy: 0.9588 - val_loss: 0.1295 - val_accuracy: 0.9639\n",
            "Epoch 2/10\n",
            "1875/1875 [==============================] - 28s 15ms/step - loss: 0.1450 - accuracy: 0.9582 - val_loss: 0.1973 - val_accuracy: 0.9447\n",
            "Epoch 3/10\n",
            "1875/1875 [==============================] - 29s 15ms/step - loss: 0.1378 - accuracy: 0.9607 - val_loss: 0.1461 - val_accuracy: 0.9620\n",
            "Epoch 4/10\n",
            "1875/1875 [==============================] - 28s 15ms/step - loss: 0.1648 - accuracy: 0.9526 - val_loss: 0.2262 - val_accuracy: 0.9319\n",
            "Epoch 5/10\n",
            "1875/1875 [==============================] - 28s 15ms/step - loss: 0.1669 - accuracy: 0.9527 - val_loss: 0.1754 - val_accuracy: 0.9534\n",
            "Epoch 6/10\n",
            "1875/1875 [==============================] - 29s 15ms/step - loss: 0.1608 - accuracy: 0.9534 - val_loss: 0.1507 - val_accuracy: 0.9577\n",
            "Epoch 7/10\n",
            "1875/1875 [==============================] - 28s 15ms/step - loss: 0.1506 - accuracy: 0.9580 - val_loss: 0.1584 - val_accuracy: 0.9549\n",
            "Epoch 8/10\n",
            "1875/1875 [==============================] - 28s 15ms/step - loss: 0.1490 - accuracy: 0.9574 - val_loss: 0.1921 - val_accuracy: 0.9477\n",
            "Epoch 9/10\n",
            "1875/1875 [==============================] - 29s 15ms/step - loss: 0.1739 - accuracy: 0.9500 - val_loss: 0.1739 - val_accuracy: 0.9522\n",
            "Epoch 10/10\n",
            "1875/1875 [==============================] - 28s 15ms/step - loss: 0.1751 - accuracy: 0.9495 - val_loss: 0.1739 - val_accuracy: 0.9528\n",
            "313/313 [==============================] - 2s 6ms/step - loss: 0.1739 - accuracy: 0.9528\n",
            "Optimizer: <keras.optimizers.adam.Adam object at 0x7f5103238fd0> - Test Accuracy: 0.9527999758720398\n"
          ]
        }
      ]
    },
    {
      "cell_type": "code",
      "source": [
        "#[\"sgd\", \"rmsprop\", \"adam\"]\n",
        "loss"
      ],
      "metadata": {
        "colab": {
          "base_uri": "https://localhost:8080/"
        },
        "id": "CXbH5JCINV1l",
        "outputId": "f9594257-a07b-47e8-8d34-8b3ed25c668f"
      },
      "execution_count": null,
      "outputs": [
        {
          "output_type": "execute_result",
          "data": {
            "text/plain": [
              "[0.12860284745693207, 0.11879798769950867, 0.17392288148403168]"
            ]
          },
          "metadata": {},
          "execution_count": 12
        }
      ]
    },
    {
      "cell_type": "code",
      "source": [
        "#[\"sgd\", \"rmsprop\", \"adam\"]\n",
        "accu"
      ],
      "metadata": {
        "colab": {
          "base_uri": "https://localhost:8080/"
        },
        "id": "9Wn2F0WINZSk",
        "outputId": "1b9d587a-2525-40f1-e0f2-082dc998843c"
      },
      "execution_count": null,
      "outputs": [
        {
          "output_type": "execute_result",
          "data": {
            "text/plain": [
              "[0.9638000130653381, 0.9667999744415283, 0.9527999758720398]"
            ]
          },
          "metadata": {},
          "execution_count": 13
        }
      ]
    },
    {
      "cell_type": "code",
      "source": [
        "optimizer_momen = [SGD(momentum = 0.1), SGD(momentum = 0.5), SGD(momentum = 0.9)]\n",
        "loss_momen = []\n",
        "accu_momen = []\n",
        "for optimizer in optimizer_momen:\n",
        "    model.compile(loss=\"sparse_categorical_crossentropy\", optimizer=optimizer, metrics=[\"accuracy\"])\n",
        "\n",
        "    # Train the model\n",
        "    history = model.fit(X_train, y_train, epochs=10, validation_data=(X_test, y_test))\n",
        "\n",
        "    # Evaluate the model\n",
        "    test_loss, test_acc = model.evaluate(X_test, y_test)\n",
        "    loss_momen.append(test_loss)\n",
        "    accu_momen.append(test_acc)\n",
        "    print(f\"Optimizer: {optimizer} - Test Accuracy: {test_acc}\")\n"
      ],
      "metadata": {
        "colab": {
          "base_uri": "https://localhost:8080/"
        },
        "id": "mmpCNuZhGjim",
        "outputId": "f04692fe-ee10-4509-b409-e4a92f7c032b"
      },
      "execution_count": null,
      "outputs": [
        {
          "output_type": "stream",
          "name": "stdout",
          "text": [
            "Epoch 1/10\n",
            "1875/1875 [==============================] - 39s 20ms/step - loss: 1.3870 - accuracy: 0.4593 - val_loss: 1.3785 - val_accuracy: 0.4646\n",
            "Epoch 2/10\n",
            "1875/1875 [==============================] - 35s 18ms/step - loss: 1.3570 - accuracy: 0.4804 - val_loss: 1.3467 - val_accuracy: 0.4787\n",
            "Epoch 3/10\n",
            "1875/1875 [==============================] - 36s 19ms/step - loss: 1.3603 - accuracy: 0.4852 - val_loss: 1.3524 - val_accuracy: 0.4802\n",
            "Epoch 4/10\n",
            "1875/1875 [==============================] - 34s 18ms/step - loss: 1.3466 - accuracy: 0.4881 - val_loss: 1.3379 - val_accuracy: 0.4868\n",
            "Epoch 5/10\n",
            "1875/1875 [==============================] - 36s 19ms/step - loss: 1.3496 - accuracy: 0.4859 - val_loss: 1.3644 - val_accuracy: 0.4856\n",
            "Epoch 6/10\n",
            "1875/1875 [==============================] - 36s 19ms/step - loss: 1.3969 - accuracy: 0.4764 - val_loss: 1.4489 - val_accuracy: 0.4539\n",
            "Epoch 7/10\n",
            "1875/1875 [==============================] - 34s 18ms/step - loss: 1.3756 - accuracy: 0.4792 - val_loss: 1.3562 - val_accuracy: 0.4815\n",
            "Epoch 8/10\n",
            "1875/1875 [==============================] - 34s 18ms/step - loss: 1.5161 - accuracy: 0.4314 - val_loss: 1.4397 - val_accuracy: 0.4626\n",
            "Epoch 9/10\n",
            "1875/1875 [==============================] - 34s 18ms/step - loss: 1.4864 - accuracy: 0.4361 - val_loss: 1.4748 - val_accuracy: 0.4260\n",
            "Epoch 10/10\n",
            "1875/1875 [==============================] - 36s 19ms/step - loss: 1.4398 - accuracy: 0.4444 - val_loss: 1.4002 - val_accuracy: 0.4517\n",
            "313/313 [==============================] - 3s 9ms/step - loss: 1.4002 - accuracy: 0.4517\n",
            "Optimizer: <keras.optimizers.optimizer_experimental.sgd.SGD object at 0x7fe4ae227490> - Test Accuracy: 0.45170000195503235\n",
            "Epoch 1/10\n",
            "1875/1875 [==============================] - 36s 18ms/step - loss: 1.4559 - accuracy: 0.4430 - val_loss: 1.4689 - val_accuracy: 0.4201\n",
            "Epoch 2/10\n",
            "1875/1875 [==============================] - 34s 18ms/step - loss: 1.4992 - accuracy: 0.4210 - val_loss: 1.4995 - val_accuracy: 0.4174\n",
            "Epoch 3/10\n",
            "1875/1875 [==============================] - 34s 18ms/step - loss: 1.4128 - accuracy: 0.4457 - val_loss: 1.3835 - val_accuracy: 0.4595\n",
            "Epoch 4/10\n",
            "1875/1875 [==============================] - 34s 18ms/step - loss: 1.3813 - accuracy: 0.4650 - val_loss: 1.3757 - val_accuracy: 0.4622\n",
            "Epoch 5/10\n",
            "1875/1875 [==============================] - 33s 18ms/step - loss: 1.5017 - accuracy: 0.4244 - val_loss: 1.4884 - val_accuracy: 0.4047\n",
            "Epoch 6/10\n",
            "1875/1875 [==============================] - 34s 18ms/step - loss: 1.4929 - accuracy: 0.4279 - val_loss: 1.5252 - val_accuracy: 0.4105\n",
            "Epoch 7/10\n",
            "1875/1875 [==============================] - 35s 19ms/step - loss: 1.7899 - accuracy: 0.2959 - val_loss: 1.8068 - val_accuracy: 0.2587\n",
            "Epoch 8/10\n",
            "1875/1875 [==============================] - 33s 17ms/step - loss: 1.8033 - accuracy: 0.3023 - val_loss: 1.9932 - val_accuracy: 0.2123\n",
            "Epoch 9/10\n",
            "1875/1875 [==============================] - 34s 18ms/step - loss: 1.8770 - accuracy: 0.2727 - val_loss: 1.8463 - val_accuracy: 0.2472\n",
            "Epoch 10/10\n",
            "1875/1875 [==============================] - 33s 18ms/step - loss: 2.1822 - accuracy: 0.1555 - val_loss: 2.3013 - val_accuracy: 0.1021\n",
            "313/313 [==============================] - 2s 7ms/step - loss: 2.3013 - accuracy: 0.1021\n",
            "Optimizer: <keras.optimizers.optimizer_experimental.sgd.SGD object at 0x7fe4a66c6a60> - Test Accuracy: 0.10209999978542328\n",
            "Epoch 1/10\n",
            "1875/1875 [==============================] - 36s 18ms/step - loss: 2.1120 - accuracy: 0.1792 - val_loss: 2.1132 - val_accuracy: 0.2078\n",
            "Epoch 2/10\n",
            "1875/1875 [==============================] - 35s 19ms/step - loss: 1.9501 - accuracy: 0.2350 - val_loss: 2.3097 - val_accuracy: 0.1777\n",
            "Epoch 3/10\n",
            "1875/1875 [==============================] - 40s 22ms/step - loss: 1.9796 - accuracy: 0.2271 - val_loss: 1.9961 - val_accuracy: 0.1917\n",
            "Epoch 4/10\n",
            "1875/1875 [==============================] - 34s 18ms/step - loss: 1.9504 - accuracy: 0.2224 - val_loss: 1.8654 - val_accuracy: 0.2496\n",
            "Epoch 5/10\n",
            "1875/1875 [==============================] - 36s 19ms/step - loss: 1.9481 - accuracy: 0.2356 - val_loss: 1.9498 - val_accuracy: 0.2713\n",
            "Epoch 6/10\n",
            "1875/1875 [==============================] - 35s 19ms/step - loss: 1.9363 - accuracy: 0.2450 - val_loss: 1.9610 - val_accuracy: 0.2580\n",
            "Epoch 7/10\n",
            "1875/1875 [==============================] - 33s 18ms/step - loss: 1.9486 - accuracy: 0.2349 - val_loss: 1.9496 - val_accuracy: 0.2351\n",
            "Epoch 8/10\n",
            "1875/1875 [==============================] - 34s 18ms/step - loss: 1.9511 - accuracy: 0.2361 - val_loss: 2.0162 - val_accuracy: 0.2240\n",
            "Epoch 9/10\n",
            "1875/1875 [==============================] - 34s 18ms/step - loss: 1.9590 - accuracy: 0.2348 - val_loss: 1.9503 - val_accuracy: 0.2766\n",
            "Epoch 10/10\n",
            "1875/1875 [==============================] - 37s 19ms/step - loss: 1.9393 - accuracy: 0.2442 - val_loss: 1.9173 - val_accuracy: 0.2268\n",
            "313/313 [==============================] - 3s 8ms/step - loss: 1.9173 - accuracy: 0.2268\n",
            "Optimizer: <keras.optimizers.optimizer_experimental.sgd.SGD object at 0x7fe4a736c340> - Test Accuracy: 0.22679999470710754\n"
          ]
        }
      ]
    },
    {
      "cell_type": "code",
      "source": [
        "loss_momen"
      ],
      "metadata": {
        "colab": {
          "base_uri": "https://localhost:8080/"
        },
        "id": "T53lKxveUG4X",
        "outputId": "02dc40cf-a931-439d-b5dc-a210bf2bf742"
      },
      "execution_count": null,
      "outputs": [
        {
          "output_type": "execute_result",
          "data": {
            "text/plain": [
              "[1.4002196788787842, 2.3012702465057373, 1.9172717332839966]"
            ]
          },
          "metadata": {},
          "execution_count": 26
        }
      ]
    },
    {
      "cell_type": "code",
      "source": [
        "accu_momen\n"
      ],
      "metadata": {
        "colab": {
          "base_uri": "https://localhost:8080/"
        },
        "id": "vP4N_JHm3Cps",
        "outputId": "9f45325b-13f2-45bb-d9dc-79a089c5476d"
      },
      "execution_count": null,
      "outputs": [
        {
          "output_type": "execute_result",
          "data": {
            "text/plain": [
              "[0.45170000195503235, 0.10209999978542328, 0.22679999470710754]"
            ]
          },
          "metadata": {},
          "execution_count": 27
        }
      ]
    }
  ]
}